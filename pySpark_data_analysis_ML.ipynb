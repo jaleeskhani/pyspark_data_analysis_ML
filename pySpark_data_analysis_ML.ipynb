{
 "cells": [
  {
   "cell_type": "markdown",
   "metadata": {},
   "source": [
    "# Data Analysis and ML using PySpark"
   ]
  },
  {
   "cell_type": "markdown",
   "metadata": {
    "colab_type": "text",
    "id": "1VYliBGUDz9s"
   },
   "source": [
    "**Installing required libraries and modules**"
   ]
  },
  {
   "cell_type": "code",
   "execution_count": null,
   "metadata": {
    "colab": {
     "base_uri": "https://localhost:8080/",
     "height": 168
    },
    "colab_type": "code",
    "id": "GhigLvWx_iAr",
    "outputId": "ae962f54-c477-4eb8-84d6-bf8c3853dc2c"
   },
   "outputs": [
    {
     "name": "stdout",
     "output_type": "stream",
     "text": [
      "Collecting wget\n",
      "  Downloading https://files.pythonhosted.org/packages/47/6a/62e288da7bcda82b935ff0c6cfe542970f04e29c756b0e147251b2fb251f/wget-3.2.zip\n",
      "Building wheels for collected packages: wget\n",
      "  Building wheel for wget (setup.py) ... \u001b[?25l\u001b[?25hdone\n",
      "  Created wheel for wget: filename=wget-3.2-cp36-none-any.whl size=9682 sha256=11e08af0964f23de26eb81d0c62a6e1a4ed2ecefda8178489be635fa8f1b2c2a\n",
      "  Stored in directory: /root/.cache/pip/wheels/40/15/30/7d8f7cea2902b4db79e3fea550d7d7b85ecb27ef992b618f3f\n",
      "Successfully built wget\n",
      "Installing collected packages: wget\n",
      "Successfully installed wget-3.2\n"
     ]
    }
   ],
   "source": [
    "!pip install wget\n",
    "!apt-get install openjdk-8-jdk-headless -qq > /dev/null\n",
    "!wget -q https://archive.apache.org/dist/spark/spark-2.4.0/spark-2.4.0-bin-hadoop2.7.tgz\n",
    "!tar xf spark-2.4.0-bin-hadoop2.7.tgz\n",
    "!pip install -q findspark"
   ]
  },
  {
   "cell_type": "markdown",
   "metadata": {
    "colab_type": "text",
    "id": "CXR4GrmuEMp5"
   },
   "source": [
    "**Importing and downloading**"
   ]
  },
  {
   "cell_type": "code",
   "execution_count": null,
   "metadata": {
    "colab": {},
    "colab_type": "code",
    "id": "XelgH_OC_wz5"
   },
   "outputs": [],
   "source": [
    "import os,wget\n",
    "os.environ[\"JAVA_HOME\"] = \"/usr/lib/jvm/java-8-openjdk-amd64\"\n",
    "os.environ[\"SPARK_HOME\"] = \"/content/spark-2.4.0-bin-hadoop2.7\"\n",
    "link_to_data = 'https://github.com/tulip-lab/sit742/raw/master/Assessment/2020/data/2020T2Data.csv'\n",
    "DataSet = wget.download(link_to_data)"
   ]
  },
  {
   "cell_type": "code",
   "execution_count": null,
   "metadata": {
    "colab": {},
    "colab_type": "code",
    "id": "sXthW5PyAoFS"
   },
   "outputs": [],
   "source": [
    "import findspark\n",
    "findspark.init()\n",
    "from pyspark.sql import SparkSession"
   ]
  },
  {
   "cell_type": "markdown",
   "metadata": {
    "colab_type": "text",
    "id": "mPFn0kPMEWdh"
   },
   "source": [
    "## **1.1 Data Exploration**"
   ]
  },
  {
   "cell_type": "code",
   "execution_count": null,
   "metadata": {
    "colab": {},
    "colab_type": "code",
    "id": "OFPhsv06Bjyg"
   },
   "outputs": [],
   "source": [
    "# Import the '2020T2Data.csv' as a Spark dataframe and name it as df\n",
    "spark = SparkSession.builder.appName('SIT742T2').getOrCreate()\n",
    "# Reading csv file as spark dataframe\n",
    "df = spark.read.csv(\"2020T2Data.csv\",header=True, inferSchema=True,  nullValue=True, nanValue=True)"
   ]
  },
  {
   "cell_type": "markdown",
   "metadata": {
    "colab_type": "text",
    "id": "ziYp6iTXE_fK"
   },
   "source": [
    "## **1.1.A**"
   ]
  },
  {
   "cell_type": "code",
   "execution_count": null,
   "metadata": {
    "colab": {
     "base_uri": "https://localhost:8080/",
     "height": 319
    },
    "colab_type": "code",
    "id": "j8jLudBnCwaK",
    "outputId": "8ac7afac-863b-4292-d157-001bcdfc8835"
   },
   "outputs": [
    {
     "name": "stdout",
     "output_type": "stream",
     "text": [
      "+--------+\n",
      "|min(Age)|\n",
      "+--------+\n",
      "|      16|\n",
      "+--------+\n",
      "\n",
      "+------------------+\n",
      "|          avg(Age)|\n",
      "+------------------+\n",
      "|25.122205745043114|\n",
      "+------------------+\n",
      "\n",
      "+--------+\n",
      "|max(Age)|\n",
      "+--------+\n",
      "|      45|\n",
      "+--------+\n",
      "\n"
     ]
    }
   ],
   "source": [
    "from pyspark.sql import functions as F\n",
    "minAge = df.select(F.min('Age')).show()\n",
    "meanAge = df.select(F.mean('Age')).show()\n",
    "maxAge = df.select(F.max('Age')).show()"
   ]
  },
  {
   "cell_type": "code",
   "execution_count": null,
   "metadata": {
    "colab": {
     "base_uri": "https://localhost:8080/",
     "height": 319
    },
    "colab_type": "code",
    "id": "JRfuUGZSC2dB",
    "outputId": "f12a61e3-b6c5-4c07-8088-9e49ead1ca3e"
   },
   "outputs": [
    {
     "name": "stdout",
     "output_type": "stream",
     "text": [
      "+------------+\n",
      "|min(Overall)|\n",
      "+------------+\n",
      "|          46|\n",
      "+------------+\n",
      "\n",
      "+-----------------+\n",
      "|     avg(Overall)|\n",
      "+-----------------+\n",
      "|66.23869940132916|\n",
      "+-----------------+\n",
      "\n",
      "+------------+\n",
      "|max(Overall)|\n",
      "+------------+\n",
      "|          94|\n",
      "+------------+\n",
      "\n"
     ]
    }
   ],
   "source": [
    "minOA = df.select(F.min('Overall')).show()\n",
    "meanOA = df.select(F.mean('Overall')).show()\n",
    "maxOA = df.select(F.max('Overall')).show()"
   ]
  },
  {
   "cell_type": "code",
   "execution_count": null,
   "metadata": {
    "colab": {
     "base_uri": "https://localhost:8080/",
     "height": 487
    },
    "colab_type": "code",
    "id": "zRrz503iC7hF",
    "outputId": "354f975c-7571-49c8-a13f-a8f6aaf11c7b"
   },
   "outputs": [
    {
     "name": "stdout",
     "output_type": "stream",
     "text": [
      "Position having highest Avg Overall is LF with overall value of 73.86666666666666\n",
      "Sorted overall average on position\n",
      "+--------+-----------------+\n",
      "|Position|  Overall avergae|\n",
      "+--------+-----------------+\n",
      "|      LF|73.86666666666666|\n",
      "|      RF|            73.25|\n",
      "|     RAM|72.28571428571429|\n",
      "|     LAM|71.85714285714286|\n",
      "|      LS|70.06280193236715|\n",
      "|     RDM|69.75403225806451|\n",
      "|      RS|69.52216748768473|\n",
      "|     RCB|69.28398791540785|\n",
      "|     LCM|69.27088607594936|\n",
      "|     LCB|69.24074074074075|\n",
      "|     RCM|  69.076726342711|\n",
      "|     LDM|69.03292181069959|\n",
      "|      RW|66.92972972972973|\n",
      "|     CAM|66.90396659707724|\n",
      "|      LM|66.69223744292238|\n",
      "|      LW|66.61679790026247|\n",
      "|     LWB|66.51282051282051|\n",
      "|      RM|66.49644128113879|\n",
      "|     CDM| 66.3132911392405|\n",
      "|      RB|66.05886909372579|\n",
      "+--------+-----------------+\n",
      "only showing top 20 rows\n",
      "\n"
     ]
    }
   ],
   "source": [
    "avgOAPostion = df.groupBy(\"Position\").agg(F.mean('Overall')\\\n",
    "                                          .alias('Overall avergae')).orderBy('Overall avergae', ascending=False).collect()\n",
    "print('Position having highest Avg Overall is {} with overall value of {}'.format(avgOAPostion[0][0], avgOAPostion[0][1]))\n",
    "print('Sorted overall average on position')\n",
    "df.groupBy(\"Position\").agg(F.mean('Overall')\\\n",
    "                                          .alias('Overall avergae')).orderBy('Overall avergae', ascending=False).show()"
   ]
  },
  {
   "cell_type": "code",
   "execution_count": null,
   "metadata": {
    "colab": {
     "base_uri": "https://localhost:8080/",
     "height": 185
    },
    "colab_type": "code",
    "id": "CzGg0tsBqtDa",
    "outputId": "589203ae-df45-4ab9-b8e9-637f109c7fb5"
   },
   "outputs": [
    {
     "name": "stdout",
     "output_type": "stream",
     "text": [
      "Top 3 countries with highest Avg Overall\n",
      "+--------------------+-----------------+\n",
      "|         Nationality|  Country avergae|\n",
      "+--------------------+-----------------+\n",
      "|United Arab Emirates|             77.0|\n",
      "|Central African Rep.|73.33333333333333|\n",
      "|              Israel|72.14285714285714|\n",
      "+--------------------+-----------------+\n",
      "only showing top 3 rows\n",
      "\n"
     ]
    }
   ],
   "source": [
    "print('Top 3 countries with highest Avg Overall')\n",
    "avgOAPostion = df.groupBy(\"Nationality\").agg(F.mean('Overall')\\\n",
    "                                          .alias('Country avergae')).orderBy('Country avergae', ascending=False).show(3)"
   ]
  },
  {
   "cell_type": "markdown",
   "metadata": {
    "colab_type": "text",
    "id": "D_snSpyjs62f"
   },
   "source": [
    "## **1.1.B**"
   ]
  },
  {
   "cell_type": "code",
   "execution_count": null,
   "metadata": {
    "colab": {
     "base_uri": "https://localhost:8080/",
     "height": 302
    },
    "colab_type": "code",
    "id": "bzvRd9HLr3zZ",
    "outputId": "0a6ffca7-f09e-4953-95f9-1a54a765b820"
   },
   "outputs": [
    {
     "name": "stdout",
     "output_type": "stream",
     "text": [
      "Avg Potentials on Country by Position with ordering the results on country by alphabet\n",
      "+-----------+--------+-----------------+\n",
      "|Nationality|Position|Potential avergae|\n",
      "+-----------+--------+-----------------+\n",
      "|Afghanistan|      LB|             64.0|\n",
      "|Afghanistan|      LM|             70.0|\n",
      "|Afghanistan|     CAM|             66.0|\n",
      "|Afghanistan|      CM|             71.0|\n",
      "|    Albania|      RS|             71.0|\n",
      "|    Albania|      RB|             75.0|\n",
      "|    Albania|     CAM|            70.75|\n",
      "|    Albania|    null|             70.0|\n",
      "|    Albania|     CDM|             69.5|\n",
      "|    Albania|      GK|             77.5|\n",
      "+-----------+--------+-----------------+\n",
      "only showing top 10 rows\n",
      "\n"
     ]
    }
   ],
   "source": [
    "print('Avg Potentials on Country by Position with ordering the results on country by alphabet')\n",
    "avgPostonCountry = df.groupBy(\"Nationality\", \"Position\").agg(F.mean('Potential')\\\n",
    "                                          .alias('Potential avergae')).orderBy('Nationality').show(10)"
   ]
  },
  {
   "cell_type": "code",
   "execution_count": null,
   "metadata": {
    "colab": {
     "base_uri": "https://localhost:8080/",
     "height": 34
    },
    "colab_type": "code",
    "id": "cyJDbnCztRbd",
    "outputId": "637b4945-8ee9-4394-e9cb-84dcbe9c9a68"
   },
   "outputs": [
    {
     "name": "stdout",
     "output_type": "stream",
     "text": [
      "Position having highest Avg Potential for Australia is RDM with value 77.0\n"
     ]
    }
   ],
   "source": [
    "tempLs = df.groupBy(\"Nationality\", \"Position\").agg(F.mean('Potential')\\\n",
    "                        .alias('Potential avergae')).orderBy('Nationality').collect()[86:108]\n",
    "\n",
    "# convert list to spark dataframe and sort and get top value\n",
    "value = spark.createDataFrame(tempLs).orderBy('Potential avergae', ascending=False).collect()\n",
    "print('Position having highest Avg Potential for {} is {} with value {}'.format(value[0][0], value[0][1], value[0][2]))"
   ]
  },
  {
   "cell_type": "markdown",
   "metadata": {
    "colab_type": "text",
    "id": "EAIQcZG1uW2d"
   },
   "source": [
    "## **1.1.C**"
   ]
  },
  {
   "cell_type": "code",
   "execution_count": null,
   "metadata": {
    "colab": {},
    "colab_type": "code",
    "id": "54LXn3XAuACr"
   },
   "outputs": [],
   "source": [
    "import matplotlib.pyplot as plt\n",
    "import numpy as np\n",
    "import pandas as pd"
   ]
  },
  {
   "cell_type": "code",
   "execution_count": null,
   "metadata": {
    "colab": {
     "base_uri": "https://localhost:8080/",
     "height": 312
    },
    "colab_type": "code",
    "id": "AnBMTHKEumsl",
    "outputId": "02b3a062-eb48-44a8-80c1-b955e5224ef6"
   },
   "outputs": [
    {
     "data": {
      "image/png": "[encoded data removed]",
      "text/plain": [
       "<Figure size 432x288 with 2 Axes>"
      ]
     },
     "metadata": {
      "needs_background": "light",
      "tags": []
     },
     "output_type": "display_data"
    },
    {
     "name": "stdout",
     "output_type": "stream",
     "text": [
      "From the graph, the age when the players are fully released their potential is 44\n"
     ]
    }
   ],
   "source": [
    "newdf1 = df.groupBy('Age').agg(F.mean('Potential')\\\n",
    "                                .alias('Potential avergae')).orderBy('Age').collect()\n",
    "newdf1 = spark.createDataFrame(newdf1)\n",
    "newdf2 = df.groupBy('Age').agg(F.mean('Overall')\\\n",
    "                                .alias('Overall avergae')).orderBy('Age').collect()\n",
    "newdf2 = spark.createDataFrame(newdf2)\n",
    "newdf1 = newdf1.toPandas()\n",
    "newdf2 = newdf2.toPandas()\n",
    "# Plotting the comparison\n",
    "fig = plt.figure()\n",
    "ax1 = fig.add_subplot()\n",
    "ax1.set_title('Potential and Overall average on Age')\n",
    "ax1.set_xlabel('Age')\n",
    "ax1.plot(newdf1['Age'], newdf1['Potential avergae'],'go-')\n",
    "ax1.tick_params(axis='y')\n",
    "ax1.set_ylabel('Potential avergae', color = 'g')\n",
    "ax2 = ax1.twinx()\n",
    "ax2.plot(newdf2['Age'], newdf2['Overall avergae'], 'bd-')\n",
    "ax2.tick_params(axis='y')\n",
    "ax2.set_ylabel('Overall avergae', color = 'b')\n",
    "plt.show()\n",
    "print('From the graph, the age when the players are fully released their potential is 44')"
   ]
  },
  {
   "cell_type": "markdown",
   "metadata": {
    "colab_type": "text",
    "id": "-dzY8q9aJiPF"
   },
   "source": [
    "## **Part 2 Clustering**"
   ]
  },
  {
   "cell_type": "code",
   "execution_count": null,
   "metadata": {
    "colab": {},
    "colab_type": "code",
    "id": "Ymvi-DBSu6tm"
   },
   "outputs": [],
   "source": [
    "# Removing GK position from data\n",
    "dfwithoutGK = df.where(df['Position'] != 'GK')\n",
    "# Selecting relevent features\n",
    "newAttributesDF = dfwithoutGK[['ID','Position', 'Height(CM)', 'Weight(KG)', 'Crossing', 'Finishing', 'HeadingAccuracy', 'ShortPassing', 'Volleys', 'Dribbling', 'Curve', 'FKAccuracy',\n",
    "                               'LongPassing', 'BallControl', 'Acceleration', 'SprintSpeed', 'Agility', 'Reactions', 'Balance', 'ShotPower', 'Jumping', 'Stamina',\n",
    "                               'Strength', 'LongShots', 'Aggression', 'Interceptions', 'Positioning', 'Vision', 'Penalties', 'Composure', 'Marking', 'StandingTackle',\n",
    "                               'SlidingTackle']]"
   ]
  },
  {
   "cell_type": "code",
   "execution_count": null,
   "metadata": {
    "colab": {},
    "colab_type": "code",
    "id": "89dqfmCnKBAU"
   },
   "outputs": [],
   "source": []
  },
  {
   "cell_type": "code",
   "execution_count": null,
   "metadata": {
    "colab": {},
    "colab_type": "code",
    "id": "pR8r_aZJKDH5"
   },
   "outputs": [],
   "source": [
    "DEF = ['LB','LWB','RB','LCB','RCB','CB','RWB']\n",
    "FWD = ['RF','LF','LW','RS','RW','LS','CF','ST']\n",
    "MID = ['LCM','LM','RDM','CAM','RAM','RCM','CM','CDM','RM','LAM','LDM']"
   ]
  },
  {
   "cell_type": "code",
   "execution_count": null,
   "metadata": {
    "colab": {},
    "colab_type": "code",
    "id": "wjCU1t-aKlCF"
   },
   "outputs": [],
   "source": [
    "from pyspark.sql.functions import col, when\n",
    "newAttributesDF = newAttributesDF.withColumn(\"Position_Group\", newAttributesDF[\"Position\"])"
   ]
  },
  {
   "cell_type": "code",
   "execution_count": null,
   "metadata": {
    "colab": {
     "base_uri": "https://localhost:8080/",
     "height": 474
    },
    "colab_type": "code",
    "id": "KhlVGVpTOQJq",
    "outputId": "115d84df-0fcf-4cd9-dfaf-33d18b81a5a3"
   },
   "outputs": [
    {
     "name": "stdout",
     "output_type": "stream",
     "text": [
      "+------+--------+----------+----------+--------+---------+---------------+------------+-------+---------+-----+----------+-----------+-----------+------------+-----------+-------+---------+-------+---------+-------+-------+--------+---------+----------+-------------+-----------+------+---------+---------+-------+--------------+-------------+--------------+\n",
      "|    ID|Position|Height(CM)|Weight(KG)|Crossing|Finishing|HeadingAccuracy|ShortPassing|Volleys|Dribbling|Curve|FKAccuracy|LongPassing|BallControl|Acceleration|SprintSpeed|Agility|Reactions|Balance|ShotPower|Jumping|Stamina|Strength|LongShots|Aggression|Interceptions|Positioning|Vision|Penalties|Composure|Marking|StandingTackle|SlidingTackle|Position_Group|\n",
      "+------+--------+----------+----------+--------+---------+---------------+------------+-------+---------+-----+----------+-----------+-----------+------------+-----------+-------+---------+-------+---------+-------+-------+--------+---------+----------+-------------+-----------+------+---------+---------+-------+--------------+-------------+--------------+\n",
      "|158023|      RF|   173.736| 72.121128|      84|       95|             70|          90|     86|       97|   93|        94|         87|         96|          91|         86|     91|       95|     95|       85|     68|     72|      59|       94|        48|           22|         94|    94|       75|       96|     33|            28|           26|           FWD|\n",
      "| 20801|      ST|   188.976| 83.007336|      84|       94|             89|          81|     87|       88|   81|        76|         77|         94|          89|         91|     87|       96|     70|       95|     95|     88|      79|       93|        63|           29|         95|    82|       85|       95|     28|            31|           23|           FWD|\n",
      "|190871|      LW|   179.832|   68.0388|      79|       87|             62|          84|     84|       96|   88|        87|         78|         95|          94|         90|     96|       94|     84|       80|     61|     81|      49|       82|        56|           36|         89|    87|       81|       94|     27|            24|           33|           FWD|\n",
      "|192985|     RCM|  155.7528| 69.853168|      93|       82|             55|          92|     82|       86|   85|        83|         91|         91|          78|         76|     79|       91|     77|       91|     63|     90|      75|       91|        76|           61|         87|    94|       79|       88|     68|            58|           51|           MID|\n",
      "|183277|      LF|   176.784| 73.935496|      81|       84|             61|          89|     80|       95|   83|        79|         83|         94|          94|         88|     95|       90|     94|       82|     56|     83|      66|       80|        54|           41|         87|    89|       86|       91|     34|            27|           22|           FWD|\n",
      "|177003|     RCM|   176.784| 66.224432|      86|       72|             55|          93|     76|       90|   85|        78|         88|         93|          80|         72|     93|       90|     94|       79|     68|     89|      58|       82|        62|           83|         79|    92|       82|       84|     60|            76|           73|           MID|\n",
      "|176580|      RS|    182.88|  86.18248|      77|       93|             77|          82|     88|       87|   86|        84|         64|         90|          86|         75|     82|       92|     83|       86|     69|     90|      83|       85|        87|           41|         92|    84|       85|       85|     62|            45|           38|           FWD|\n",
      "|155862|     RCB|    182.88| 82.100152|      66|       60|             91|          78|     66|       63|   74|        72|         77|         84|          76|         75|     78|       85|     66|       79|     93|     84|      83|       59|        88|           90|         60|    63|       75|       82|     87|            92|           91|           DEF|\n",
      "|188545|      ST|    182.88| 79.832192|      62|       91|             85|          83|     89|       85|   77|        86|         65|         89|          77|         78|     78|       90|     78|       88|     84|     78|      84|       84|        80|           39|         91|    77|       88|       86|     34|            42|           19|           FWD|\n",
      "|182521|     LCM|    182.88| 76.203456|      88|       76|             54|          92|     82|       81|   86|        84|         93|         90|          64|         62|     70|       89|     71|       87|     30|     75|      73|       92|        60|           82|         79|    86|       73|       85|     72|            79|           69|           MID|\n",
      "|182493|      CB|   188.976| 78.017824|      55|       42|             92|          79|     47|       53|   49|        51|         70|         76|          68|         68|     58|       85|     54|       67|     91|     66|      88|       43|        89|           88|         48|    52|       50|       82|     90|            89|           89|           DEF|\n",
      "|168542|     LCM|   176.784| 67.131616|      84|       76|             54|          93|     82|       89|   82|        77|         87|         94|          70|         64|     92|       90|     90|       72|     64|     78|      52|       75|        57|           50|         89|    92|       75|       93|     59|            53|           29|           MID|\n",
      "|215914|     LDM|   170.688| 72.121128|      68|       65|             54|          86|     56|       79|   49|        49|         81|         80|          82|         78|     82|       93|     92|       71|     77|     96|      76|       69|        90|           92|         71|    79|       54|       85|     90|            91|           85|           MID|\n",
      "|211110|      LF|   155.448|  74.84268|      82|       84|             68|          87|     88|       92|   88|        88|         75|         92|          87|         83|     91|       86|     85|       82|     75|     80|      65|       88|        48|           32|         84|    87|       86|       84|     23|            20|           20|           FWD|\n",
      "|202126|      ST|   188.976| 88.904032|      75|       94|             85|          80|     84|       80|   78|        68|         82|         84|          68|         72|     71|       91|     71|       88|     78|     89|      84|       85|        76|           35|         93|    80|       90|       89|     56|            36|           38|           FWD|\n",
      "|194765|     CAM|   179.832| 73.028312|      82|       90|             84|          83|     87|       88|   84|        78|         76|         90|          88|         85|     90|       90|     80|       80|     90|     83|      62|       82|        69|           35|         91|    83|       79|       87|     59|            47|           48|           MID|\n",
      "|189511|     CDM|   188.976| 76.203456|      62|       67|             68|          89|     44|       80|   66|        68|         82|         88|          50|         52|     66|       87|     52|       61|     66|     86|      77|       54|        85|           87|         77|    87|       60|       90|     90|            86|           80|           MID|\n",
      "|179813|      LS|   185.928|  77.11064|      70|       89|             89|          78|     90|       80|   77|        76|         52|         82|          75|         76|     77|       91|     59|       87|     88|     92|      78|       79|        84|           48|         93|    77|       85|       82|     52|            45|           39|           FWD|\n",
      "|153079|      ST|   176.784| 69.853168|      70|       93|             77|          81|     85|       89|   82|        73|         64|         89|          88|         80|     86|       90|     91|       88|     81|     76|      73|       83|        65|           24|         92|    83|       83|       90|     30|            20|           12|           FWD|\n",
      "|138956|     LCB|   188.976| 84.821704|      58|       33|             83|          59|     45|       58|   60|        31|         59|         57|          63|         75|     54|       82|     55|       78|     89|     65|      89|       49|        92|           88|         28|    50|       50|       84|     93|            93|           90|           DEF|\n",
      "+------+--------+----------+----------+--------+---------+---------------+------------+-------+---------+-----+----------+-----------+-----------+------------+-----------+-------+---------+-------+---------+-------+-------+--------+---------+----------+-------------+-----------+------+---------+---------+-------+--------------+-------------+--------------+\n",
      "only showing top 20 rows\n",
      "\n"
     ]
    }
   ],
   "source": [
    "newAttributesDF = newAttributesDF.withColumn(\"Position_Group\",when(col(\"Position\").isin(DEF), \"DEF\").otherwise(newAttributesDF.Position_Group))\n",
    "newAttributesDF = newAttributesDF.withColumn(\"Position_Group\",when(col(\"Position\").isin(FWD), \"FWD\").otherwise(newAttributesDF.Position_Group))\n",
    "newAttributesDF = newAttributesDF.withColumn(\"Position_Group\",when(col(\"Position\").isin(MID), \"MID\").otherwise(newAttributesDF.Position_Group))\n",
    "df_kmeans_new = newAttributesDF\n",
    "df_kmeans_new.show()"
   ]
  },
  {
   "cell_type": "code",
   "execution_count": null,
   "metadata": {
    "colab": {},
    "colab_type": "code",
    "id": "yOApXzdBOyqn"
   },
   "outputs": [],
   "source": [
    "from pyspark.ml.clustering import KMeans\n",
    "from pyspark.ml.feature import VectorAssembler\n",
    "\n",
    "FEATURES_COL = ['Height(CM)', 'Weight(KG)', \n",
    "                      'Crossing', 'Finishing', 'HeadingAccuracy', \n",
    "                      'ShortPassing', 'Volleys', 'Dribbling', 'Curve',\n",
    "                      'FKAccuracy', 'LongPassing', 'BallControl', \n",
    "                      'Acceleration', 'SprintSpeed', 'Agility', \n",
    "                      'Reactions', 'Balance', 'ShotPower', 'Jumping', \n",
    "                      'Stamina', 'Strength', 'LongShots', 'Aggression', \n",
    "                      'Interceptions', 'Positioning', 'Vision', 'Penalties', \n",
    "                      'Composure', 'Marking', 'StandingTackle', 'SlidingTackle']\n",
    "\n",
    "vecAssembler = VectorAssembler(inputCols=FEATURES_COL, outputCol=\"features\")\n",
    "df_kmeans_new = vecAssembler.transform(df_kmeans_new).select('ID','features')"
   ]
  },
  {
   "cell_type": "markdown",
   "metadata": {
    "colab_type": "text",
    "id": "fGAmz4vJTcFF"
   },
   "source": [
    "## **2.1**"
   ]
  },
  {
   "cell_type": "code",
   "execution_count": null,
   "metadata": {
    "colab": {},
    "colab_type": "code",
    "id": "DQpLLBm2O23d"
   },
   "outputs": [],
   "source": [
    "features = df_kmeans_new.select('features')\n",
    "cost = np.zeros(20)\n",
    "for k in range(2,20):\n",
    "    kmeans = KMeans().setK(k).setSeed(1).setFeaturesCol('features')\n",
    "    model = kmeans.fit(df_kmeans_new)\n",
    "    cost[k] = model.computeCost(df_kmeans_new)"
   ]
  },
  {
   "cell_type": "code",
   "execution_count": null,
   "metadata": {
    "colab": {
     "base_uri": "https://localhost:8080/",
     "height": 404
    },
    "colab_type": "code",
    "id": "mEeuAQvwWmse",
    "outputId": "59e47d6c-5636-4f75-ae97-c88ea4d75a80"
   },
   "outputs": [
    {
     "data": {
      "image/png": "[encoded data removed]",
      "text/plain": [
       "<Figure size 576x432 with 1 Axes>"
      ]
     },
     "metadata": {
      "needs_background": "light",
      "tags": []
     },
     "output_type": "display_data"
    }
   ],
   "source": [
    "k = np.arange(2,20)\n",
    "ig, ax = plt.subplots(1,1, figsize =(8,6))\n",
    "ax.set_xlabel('k')\n",
    "ax.set_ylabel('cost')\n",
    "ax.set_title('Elbow Curve')\n",
    "ax.plot(k, cost[2:], 'r*-')\n",
    "plt.show()"
   ]
  },
  {
   "cell_type": "markdown",
   "metadata": {
    "colab_type": "text",
    "id": "wGD4151fcVTC"
   },
   "source": [
    "## **2.2 K-Means**"
   ]
  },
  {
   "cell_type": "code",
   "execution_count": null,
   "metadata": {
    "colab": {},
    "colab_type": "code",
    "id": "bs6u0s1vWfR6"
   },
   "outputs": [],
   "source": [
    "k = 8\n",
    "kmeans = KMeans().setK(k).setSeed(1).setFeaturesCol('features')\n",
    "model = kmeans.fit(df_kmeans_new)\n",
    "predictions = model.transform(df_kmeans_new)"
   ]
  },
  {
   "cell_type": "code",
   "execution_count": null,
   "metadata": {
    "colab": {
     "base_uri": "https://localhost:8080/",
     "height": 454
    },
    "colab_type": "code",
    "id": "CvGtBN2deMFr",
    "outputId": "3254a81e-e17e-425f-82e8-89c500c0c99f"
   },
   "outputs": [
    {
     "name": "stdout",
     "output_type": "stream",
     "text": [
      "+------+--------------------+----------+\n",
      "|    ID|            features|prediction|\n",
      "+------+--------------------+----------+\n",
      "|158023|[173.736,72.12112...|         2|\n",
      "| 20801|[188.976,83.00733...|         2|\n",
      "|190871|[179.832,68.0388,...|         2|\n",
      "|192985|[155.7528,69.8531...|         4|\n",
      "|183277|[176.784,73.93549...|         2|\n",
      "|177003|[176.784,66.22443...|         4|\n",
      "|176580|[182.88,86.18248,...|         2|\n",
      "|155862|[182.88,82.100152...|         4|\n",
      "|188545|[182.88,79.832192...|         2|\n",
      "|182521|[182.88,76.203456...|         4|\n",
      "|182493|[188.976,78.01782...|         0|\n",
      "|168542|[176.784,67.13161...|         2|\n",
      "|215914|[170.688,72.12112...|         4|\n",
      "|211110|[155.448,74.84268...|         2|\n",
      "|202126|[188.976,88.90403...|         2|\n",
      "|194765|[179.832,73.02831...|         2|\n",
      "|189511|[188.976,76.20345...|         4|\n",
      "|179813|[185.928,77.11064...|         2|\n",
      "|153079|[176.784,69.85316...|         2|\n",
      "|138956|[188.976,84.82170...|         0|\n",
      "+------+--------------------+----------+\n",
      "only showing top 20 rows\n",
      "\n"
     ]
    }
   ],
   "source": [
    "predictions.show()"
   ]
  },
  {
   "cell_type": "markdown",
   "metadata": {
    "colab_type": "text",
    "id": "hsCCi5FmlSEe"
   },
   "source": [
    "**ANSWER To : What you could find from those clusters (by cluster central point)?**"
   ]
  },
  {
   "cell_type": "code",
   "execution_count": null,
   "metadata": {
    "colab": {
     "base_uri": "https://localhost:8080/",
     "height": 1000
    },
    "colab_type": "code",
    "id": "hUhGH5mPfHnN",
    "outputId": "9d113095-e2cf-47e7-af20-50239e781d4e"
   },
   "outputs": [
    {
     "name": "stdout",
     "output_type": "stream",
     "text": [
      "Answer: There are total of 8 clusters with center point for all 31 features individually. These cluster centroids for each cluster is shown below: \n",
      "Cluster Centers: \n",
      "[177.3317464   76.31794486  58.41639945  44.02061383  62.79111315\n",
      "  67.3220339   42.5387082   61.02611086  52.17911131  46.79294549\n",
      "  63.5510765   65.5758131   65.25240495  66.06596427  64.62757673\n",
      "  66.20568026  64.10581768  62.28263857  70.52038479  73.82638571\n",
      "  72.67384333  52.59688502  71.43426477  67.65048099  53.27072836\n",
      "  57.47457627  48.97938617  64.57627119  66.67155291  68.96472744\n",
      "  66.88914338]\n",
      "\n",
      "\n",
      "[187.68026262  81.70680941  39.8684377   30.21252372  68.72675522\n",
      "  59.71600253  31.19354839  44.54332701  34.72485769  33.42631246\n",
      "  54.99114485  55.46110057  53.19481341  55.6059456   50.15876028\n",
      "  62.97975965  50.6116382   51.14231499  68.34977862  64.29095509\n",
      "  79.52941176  34.24351676  70.56799494  67.06388362  33.600253\n",
      "  41.73561037  41.05566097  61.12903226  67.29411765  69.6116382\n",
      "  66.76533839]\n",
      "\n",
      "\n",
      "[172.46617578  73.21508518  65.18944637  68.70069204  57.79541522\n",
      "  69.00043253  64.56055363  73.22923875  67.01859862  61.3399654\n",
      "  60.86245675  72.86548443  76.23096886  75.48442907  76.85856401\n",
      "  68.82093426  73.3416955   71.57871972  66.4217128   69.08953287\n",
      "  63.61937716  67.48788927  56.35856401  35.85250865  70.45458478\n",
      "  67.55363322  65.27032872  68.70804498  36.98140138  34.27465398\n",
      "  30.68425606]\n",
      "\n",
      "\n",
      "[179.48039466  76.0082903   36.06083086  24.84124629  55.70029674\n",
      "  47.25816024  27.14169139  39.07121662  29.75296736  28.67655786\n",
      "  39.29896142  45.00667656  60.3189911   60.53189911  53.30267062\n",
      "  53.134273    59.04154303  38.19065282  67.60089021  60.8805638\n",
      "  67.21216617  25.61053412  57.08234421  56.22922849  31.92062315\n",
      "  34.70697329  36.51632047  47.67507418  57.19139466  60.84718101\n",
      "  58.89836795]\n",
      "\n",
      "\n",
      "[171.83121978  73.63665232  67.45570663  58.56901525  58.09394314\n",
      "  72.50432633  57.66131026  70.06098063  66.77997528  62.4223321\n",
      "  69.03461063  72.1223733   69.90688092  69.05644829  71.96744953\n",
      "  69.5434693   71.48413679  70.77832715  67.38648537  75.37206428\n",
      "  67.24639473  66.29377833  68.8170581   66.05274001  65.21137206\n",
      "  68.49938195  59.71693449  69.01771735  63.46147507  66.48413679\n",
      "  63.407911  ]\n",
      "\n",
      "\n",
      "[170.91016533  69.059326    55.29234568  55.09580247  43.15901235\n",
      "  60.04740741  48.40049383  64.16888889  52.72395062  46.47061728\n",
      "  53.46666667  62.81580247  74.15802469  73.06765432  72.88296296\n",
      "  54.81975309  74.18222222  58.15407407  57.08493827  59.05530864\n",
      "  50.88        51.04098765  42.44888889  30.00395062  56.25580247\n",
      "  56.67012346  52.63111111  55.06469136  35.40345679  33.6108642\n",
      "  32.67061728]\n",
      "\n",
      "\n",
      "[179.04405592  77.27376948  41.5253664   64.62852311  62.52367531\n",
      "  54.67080045  54.12401353  60.1572717   45.93179256  38.34892897\n",
      "  40.62514092  61.22886133  67.10372041  68.4475761   63.3934611\n",
      "  58.98816234  61.21364149  63.87373168  66.86583991  62.50281849\n",
      "  69.78015784  56.90078918  48.6854566   22.34441939  62.61555806\n",
      "  51.56313416  61.20744081  56.67080045  27.09244645  21.86414882\n",
      "  19.75479143]\n",
      "\n",
      "\n",
      "[170.42364272  71.65120522  54.40978964  39.52872168  51.07605178\n",
      "  60.99029126  37.06432039  58.46197411  45.36407767  40.24959547\n",
      "  55.51173139  59.90978964  69.55987055  69.1565534   67.27548544\n",
      "  58.08859223  69.60679612  50.26456311  64.68608414  67.79652104\n",
      "  60.88754045  42.32686084  59.25444984  56.58576052  50.67435275\n",
      "  51.5262945   43.85234628  53.67677994  56.21480583  59.43891586\n",
      "  57.93082524]\n",
      "\n",
      "\n"
     ]
    }
   ],
   "source": [
    "print('Answer: There are total of 8 clusters with center point for all 31 features individually. These cluster centroids for each cluster is shown below: ')\n",
    "centers = model.clusterCenters()\n",
    "print(\"Cluster Centers: \")\n",
    "for center in centers:\n",
    "    print(center)\n",
    "    print('\\n')"
   ]
  },
  {
   "cell_type": "code",
   "execution_count": null,
   "metadata": {
    "colab": {
     "base_uri": "https://localhost:8080/",
     "height": 67
    },
    "colab_type": "code",
    "id": "5OkcoK2IgCHK",
    "outputId": "76b7ac7f-8516-4f9d-f600-2e09dcc00b35"
   },
   "outputs": [
    {
     "name": "stdout",
     "output_type": "stream",
     "text": [
      "DEF position count : 5866\n",
      "FWD position count : 3418\n",
      "MID position count : 6838\n"
     ]
    }
   ],
   "source": [
    "print('DEF position count : {}'.format(newAttributesDF.where(newAttributesDF.Position_Group.like('%DEF%')).count()))\n",
    "print('FWD position count : {}'.format(newAttributesDF.where(newAttributesDF.Position_Group.like('%FWD%')).count()))\n",
    "print('MID position count : {}'.format(newAttributesDF.where(newAttributesDF.Position_Group.like('%MID%')).count()))"
   ]
  },
  {
   "cell_type": "code",
   "execution_count": null,
   "metadata": {
    "colab": {
     "base_uri": "https://localhost:8080/",
     "height": 151
    },
    "colab_type": "code",
    "id": "dbxnP7w5gCPp",
    "outputId": "35d6149a-c456-4778-a7c7-612b7ae932aa"
   },
   "outputs": [
    {
     "name": "stdout",
     "output_type": "stream",
     "text": [
      "Cluster 1 prediction points : 2208\n",
      "Cluster 2 prediction points : 1581\n",
      "Cluster 3 prediction points : 2311\n",
      "Cluster 4 prediction points : 1344\n",
      "Cluster 5 prediction points : 2390\n",
      "Cluster 6 prediction points : 2029\n",
      "Cluster 7 prediction points : 1783\n",
      "Cluster 8 prediction points : 2476\n"
     ]
    }
   ],
   "source": [
    "print('Cluster 1 prediction points : {}'.format(predictions.where(predictions.prediction.like('0')).count()))\n",
    "print('Cluster 2 prediction points : {}'.format(predictions.where(predictions.prediction.like('1')).count()))\n",
    "print('Cluster 3 prediction points : {}'.format(predictions.where(predictions.prediction.like('2')).count()))\n",
    "print('Cluster 4 prediction points : {}'.format(predictions.where(predictions.prediction.like('3')).count()))\n",
    "print('Cluster 5 prediction points : {}'.format(predictions.where(predictions.prediction.like('4')).count()))\n",
    "print('Cluster 6 prediction points : {}'.format(predictions.where(predictions.prediction.like('5')).count()))\n",
    "print('Cluster 7 prediction points : {}'.format(predictions.where(predictions.prediction.like('6')).count()))\n",
    "print('Cluster 8 prediction points : {}'.format(predictions.where(predictions.prediction.like('7')).count()))"
   ]
  },
  {
   "cell_type": "code",
   "execution_count": null,
   "metadata": {
    "colab": {
     "base_uri": "https://localhost:8080/",
     "height": 474
    },
    "colab_type": "code",
    "id": "9eN7ytIXof8S",
    "outputId": "143c902c-e903-44cf-e9cc-69c6f01de1e3"
   },
   "outputs": [
    {
     "name": "stdout",
     "output_type": "stream",
     "text": [
      "+------+--------+----------+----------+--------+---------+---------------+------------+-------+---------+-----+----------+-----------+-----------+------------+-----------+-------+---------+-------+---------+-------+-------+--------+---------+----------+-------------+-----------+------+---------+---------+-------+--------------+-------------+--------------+------+-------+\n",
      "|    ID|Position|Height(CM)|Weight(KG)|Crossing|Finishing|HeadingAccuracy|ShortPassing|Volleys|Dribbling|Curve|FKAccuracy|LongPassing|BallControl|Acceleration|SprintSpeed|Agility|Reactions|Balance|ShotPower|Jumping|Stamina|Strength|LongShots|Aggression|Interceptions|Positioning|Vision|Penalties|Composure|Marking|StandingTackle|SlidingTackle|Position_Group|    ID|Cluster|\n",
      "+------+--------+----------+----------+--------+---------+---------------+------------+-------+---------+-----+----------+-----------+-----------+------------+-----------+-------+---------+-------+---------+-------+-------+--------+---------+----------+-------------+-----------+------+---------+---------+-------+--------------+-------------+--------------+------+-------+\n",
      "|158023|      RF|   173.736| 72.121128|      84|       95|             70|          90|     86|       97|   93|        94|         87|         96|          91|         86|     91|       95|     95|       85|     68|     72|      59|       94|        48|           22|         94|    94|       75|       96|     33|            28|           26|           FWD|158023|      2|\n",
      "| 20801|      ST|   188.976| 83.007336|      84|       94|             89|          81|     87|       88|   81|        76|         77|         94|          89|         91|     87|       96|     70|       95|     95|     88|      79|       93|        63|           29|         95|    82|       85|       95|     28|            31|           23|           FWD| 20801|      2|\n",
      "|190871|      LW|   179.832|   68.0388|      79|       87|             62|          84|     84|       96|   88|        87|         78|         95|          94|         90|     96|       94|     84|       80|     61|     81|      49|       82|        56|           36|         89|    87|       81|       94|     27|            24|           33|           FWD|190871|      2|\n",
      "|192985|     RCM|  155.7528| 69.853168|      93|       82|             55|          92|     82|       86|   85|        83|         91|         91|          78|         76|     79|       91|     77|       91|     63|     90|      75|       91|        76|           61|         87|    94|       79|       88|     68|            58|           51|           MID|192985|      4|\n",
      "|183277|      LF|   176.784| 73.935496|      81|       84|             61|          89|     80|       95|   83|        79|         83|         94|          94|         88|     95|       90|     94|       82|     56|     83|      66|       80|        54|           41|         87|    89|       86|       91|     34|            27|           22|           FWD|183277|      2|\n",
      "|177003|     RCM|   176.784| 66.224432|      86|       72|             55|          93|     76|       90|   85|        78|         88|         93|          80|         72|     93|       90|     94|       79|     68|     89|      58|       82|        62|           83|         79|    92|       82|       84|     60|            76|           73|           MID|177003|      4|\n",
      "|176580|      RS|    182.88|  86.18248|      77|       93|             77|          82|     88|       87|   86|        84|         64|         90|          86|         75|     82|       92|     83|       86|     69|     90|      83|       85|        87|           41|         92|    84|       85|       85|     62|            45|           38|           FWD|176580|      2|\n",
      "|155862|     RCB|    182.88| 82.100152|      66|       60|             91|          78|     66|       63|   74|        72|         77|         84|          76|         75|     78|       85|     66|       79|     93|     84|      83|       59|        88|           90|         60|    63|       75|       82|     87|            92|           91|           DEF|155862|      4|\n",
      "|188545|      ST|    182.88| 79.832192|      62|       91|             85|          83|     89|       85|   77|        86|         65|         89|          77|         78|     78|       90|     78|       88|     84|     78|      84|       84|        80|           39|         91|    77|       88|       86|     34|            42|           19|           FWD|188545|      2|\n",
      "|182521|     LCM|    182.88| 76.203456|      88|       76|             54|          92|     82|       81|   86|        84|         93|         90|          64|         62|     70|       89|     71|       87|     30|     75|      73|       92|        60|           82|         79|    86|       73|       85|     72|            79|           69|           MID|182521|      4|\n",
      "|182493|      CB|   188.976| 78.017824|      55|       42|             92|          79|     47|       53|   49|        51|         70|         76|          68|         68|     58|       85|     54|       67|     91|     66|      88|       43|        89|           88|         48|    52|       50|       82|     90|            89|           89|           DEF|182493|      0|\n",
      "|168542|     LCM|   176.784| 67.131616|      84|       76|             54|          93|     82|       89|   82|        77|         87|         94|          70|         64|     92|       90|     90|       72|     64|     78|      52|       75|        57|           50|         89|    92|       75|       93|     59|            53|           29|           MID|168542|      2|\n",
      "|215914|     LDM|   170.688| 72.121128|      68|       65|             54|          86|     56|       79|   49|        49|         81|         80|          82|         78|     82|       93|     92|       71|     77|     96|      76|       69|        90|           92|         71|    79|       54|       85|     90|            91|           85|           MID|215914|      4|\n",
      "|211110|      LF|   155.448|  74.84268|      82|       84|             68|          87|     88|       92|   88|        88|         75|         92|          87|         83|     91|       86|     85|       82|     75|     80|      65|       88|        48|           32|         84|    87|       86|       84|     23|            20|           20|           FWD|211110|      2|\n",
      "|202126|      ST|   188.976| 88.904032|      75|       94|             85|          80|     84|       80|   78|        68|         82|         84|          68|         72|     71|       91|     71|       88|     78|     89|      84|       85|        76|           35|         93|    80|       90|       89|     56|            36|           38|           FWD|202126|      2|\n",
      "|194765|     CAM|   179.832| 73.028312|      82|       90|             84|          83|     87|       88|   84|        78|         76|         90|          88|         85|     90|       90|     80|       80|     90|     83|      62|       82|        69|           35|         91|    83|       79|       87|     59|            47|           48|           MID|194765|      2|\n",
      "|189511|     CDM|   188.976| 76.203456|      62|       67|             68|          89|     44|       80|   66|        68|         82|         88|          50|         52|     66|       87|     52|       61|     66|     86|      77|       54|        85|           87|         77|    87|       60|       90|     90|            86|           80|           MID|189511|      4|\n",
      "|179813|      LS|   185.928|  77.11064|      70|       89|             89|          78|     90|       80|   77|        76|         52|         82|          75|         76|     77|       91|     59|       87|     88|     92|      78|       79|        84|           48|         93|    77|       85|       82|     52|            45|           39|           FWD|179813|      2|\n",
      "|153079|      ST|   176.784| 69.853168|      70|       93|             77|          81|     85|       89|   82|        73|         64|         89|          88|         80|     86|       90|     91|       88|     81|     76|      73|       83|        65|           24|         92|    83|       83|       90|     30|            20|           12|           FWD|153079|      2|\n",
      "|138956|     LCB|   188.976| 84.821704|      58|       33|             83|          59|     45|       58|   60|        31|         59|         57|          63|         75|     54|       82|     55|       78|     89|     65|      89|       49|        92|           88|         28|    50|       50|       84|     93|            93|           90|           DEF|138956|      0|\n",
      "+------+--------+----------+----------+--------+---------+---------------+------------+-------+---------+-----+----------+-----------+-----------+------------+-----------+-------+---------+-------+---------+-------+-------+--------+---------+----------+-------------+-----------+------+---------+---------+-------+--------------+-------------+--------------+------+-------+\n",
      "only showing top 20 rows\n",
      "\n"
     ]
    }
   ],
   "source": [
    "# Joining the two dataframes\n",
    "temp1 = newAttributesDF.alias('temp1')\n",
    "temp2 = predictions.alias('temp2')\n",
    "df_kmeans_pred_ = temp1.join(temp2, temp1.ID == temp2.ID)\n",
    "df_kmeans_pred_ = df_kmeans_pred_.drop(*['features'])\n",
    "df_kmeans_pred_ = df_kmeans_pred_.withColumnRenamed(\"prediction\",\"Cluster\")\n",
    "df_kmeans_pred_.show()"
   ]
  },
  {
   "cell_type": "code",
   "execution_count": null,
   "metadata": {
    "colab": {
     "base_uri": "https://localhost:8080/",
     "height": 454
    },
    "colab_type": "code",
    "id": "ObpxGUUeck9V",
    "outputId": "73aeef03-a790-4a4a-94e6-421bcd948402"
   },
   "outputs": [
    {
     "name": "stdout",
     "output_type": "stream",
     "text": [
      "+--------------+-------+---------------------+\n",
      "|Position_Group|Cluster|datapoints in cluster|\n",
      "+--------------+-------+---------------------+\n",
      "|           MID|      4|                 1720|\n",
      "|           FWD|      6|                 1648|\n",
      "|           MID|      5|                 1486|\n",
      "|           DEF|      1|                 1462|\n",
      "|           DEF|      7|                 1297|\n",
      "|           DEF|      3|                 1266|\n",
      "|           DEF|      0|                 1230|\n",
      "|           MID|      2|                 1195|\n",
      "|           MID|      7|                 1141|\n",
      "|           FWD|      2|                 1112|\n",
      "|           MID|      0|                  967|\n",
      "|           DEF|      4|                  599|\n",
      "|           FWD|      5|                  535|\n",
      "|           MID|      6|                  135|\n",
      "|           MID|      1|                  117|\n",
      "|           MID|      3|                   77|\n",
      "|           FWD|      4|                   71|\n",
      "|           FWD|      7|                   38|\n",
      "|           FWD|      0|                   11|\n",
      "|           DEF|      5|                    8|\n",
      "+--------------+-------+---------------------+\n",
      "only showing top 20 rows\n",
      "\n"
     ]
    }
   ],
   "source": [
    "df_kmeans_pred_.groupBy(\"Position_Group\", 'Cluster').agg(F.count('Cluster')\\\n",
    "                                          .alias('datapoints in cluster')).orderBy('datapoints in cluster', ascending=False).show()"
   ]
  },
  {
   "cell_type": "markdown",
   "metadata": {
    "colab_type": "text",
    "id": "CpdDb0qzcawu"
   },
   "source": [
    "## **Part 3 Classification**"
   ]
  },
  {
   "cell_type": "code",
   "execution_count": null,
   "metadata": {
    "colab": {
     "base_uri": "https://localhost:8080/",
     "height": 168
    },
    "colab_type": "code",
    "id": "UXVbcRXr302O",
    "outputId": "e8b65796-cc0d-4cad-b9ad-e62188e2f849"
   },
   "outputs": [
    {
     "name": "stdout",
     "output_type": "stream",
     "text": [
      "+--------------------+--------------+\n",
      "|            features|Position_Group|\n",
      "+--------------------+--------------+\n",
      "|[173.736,72.12112...|           FWD|\n",
      "|[188.976,83.00733...|           FWD|\n",
      "|[179.832,68.0388,...|           FWD|\n",
      "+--------------------+--------------+\n",
      "only showing top 3 rows\n",
      "\n"
     ]
    }
   ],
   "source": [
    "FEATURES_COL_ = ['Height(CM)', 'Weight(KG)', \n",
    "                      'Crossing', 'Finishing', 'HeadingAccuracy', \n",
    "                      'ShortPassing', 'Volleys', 'Dribbling', 'Curve',\n",
    "                      'FKAccuracy', 'LongPassing', 'BallControl', \n",
    "                      'Acceleration', 'SprintSpeed', 'Agility', \n",
    "                      'Reactions', 'Balance', 'ShotPower', 'Jumping', \n",
    "                      'Stamina', 'Strength', 'LongShots', 'Aggression', \n",
    "                      'Interceptions', 'Positioning', 'Vision', 'Penalties', \n",
    "                      'Composure', 'Marking', 'StandingTackle', 'SlidingTackle','Cluster']\n",
    "\n",
    "\n",
    "vecAssembler_ = VectorAssembler(inputCols=FEATURES_COL_, outputCol=\"features\")\n",
    "df_class_ = vecAssembler_.transform(df_kmeans_pred_).select('features','Position_Group')\n",
    "df_class_.show(3)"
   ]
  },
  {
   "cell_type": "code",
   "execution_count": null,
   "metadata": {
    "colab": {
     "base_uri": "https://localhost:8080/",
     "height": 202
    },
    "colab_type": "code",
    "id": "rIVgZ1my4XqL",
    "outputId": "1f464084-c340-4257-d223-26af30602661"
   },
   "outputs": [
    {
     "name": "stdout",
     "output_type": "stream",
     "text": [
      "+--------------------+--------------------+--------------+\n",
      "|            features|     Scaled_features|Position_Group|\n",
      "+--------------------+--------------------+--------------+\n",
      "|[173.736,72.12112...|[12.9261363965246...|           FWD|\n",
      "|[188.976,83.00733...|[14.0600080102548...|           FWD|\n",
      "|[179.832,68.0388,...|[13.3796850420167...|           FWD|\n",
      "|[155.7528,69.8531...|[11.5881678923229...|           MID|\n",
      "|[176.784,73.93549...|[13.1529107192706...|           FWD|\n",
      "+--------------------+--------------------+--------------+\n",
      "only showing top 5 rows\n",
      "\n"
     ]
    }
   ],
   "source": [
    "from pyspark.ml.feature import StandardScaler\n",
    "\n",
    "standardscaler=StandardScaler().setInputCol(\"features\").setOutputCol(\"Scaled_features\")\n",
    "raw_data=standardscaler.fit(df_class_).transform(df_class_)\n",
    "raw_data.select(\"features\",\"Scaled_features\",'Position_Group').show(5)"
   ]
  },
  {
   "cell_type": "code",
   "execution_count": null,
   "metadata": {
    "colab": {
     "base_uri": "https://localhost:8080/",
     "height": 454
    },
    "colab_type": "code",
    "id": "GfaD73Qf5ELA",
    "outputId": "da7a776c-2d75-4e21-d184-3c0af060955b"
   },
   "outputs": [
    {
     "name": "stdout",
     "output_type": "stream",
     "text": [
      "+--------------------+--------------+--------------------+------+\n",
      "|            features|Position_Group|     Scaled_features|Target|\n",
      "+--------------------+--------------+--------------------+------+\n",
      "|[173.736,72.12112...|           FWD|[12.9261363965246...|     0|\n",
      "|[188.976,83.00733...|           FWD|[14.0600080102548...|     0|\n",
      "|[179.832,68.0388,...|           FWD|[13.3796850420167...|     0|\n",
      "|[155.7528,69.8531...|           MID|[11.5881678923229...|     2|\n",
      "|[176.784,73.93549...|           FWD|[13.1529107192706...|     0|\n",
      "|[176.784,66.22443...|           MID|[13.1529107192706...|     2|\n",
      "|[182.88,86.18248,...|           FWD|[13.6064593647627...|     0|\n",
      "|[182.88,82.100152...|           DEF|[13.6064593647627...|     1|\n",
      "|[182.88,79.832192...|           FWD|[13.6064593647627...|     0|\n",
      "|[182.88,76.203456...|           MID|[13.6064593647627...|     2|\n",
      "|[188.976,78.01782...|           DEF|[14.0600080102548...|     1|\n",
      "|[176.784,67.13161...|           MID|[13.1529107192706...|     2|\n",
      "|[170.688,72.12112...|           MID|[12.6993620737785...|     2|\n",
      "|[155.448,74.84268...|           FWD|[11.5654904600483...|     0|\n",
      "|[188.976,88.90403...|           FWD|[14.0600080102548...|     0|\n",
      "|[179.832,73.02831...|           MID|[13.3796850420167...|     2|\n",
      "|[188.976,76.20345...|           MID|[14.0600080102548...|     2|\n",
      "|[185.928,77.11064...|           FWD|[13.8332336875088...|     0|\n",
      "|[176.784,69.85316...|           FWD|[13.1529107192706...|     0|\n",
      "|[188.976,84.82170...|           DEF|[14.0600080102548...|     1|\n",
      "+--------------------+--------------+--------------------+------+\n",
      "only showing top 20 rows\n",
      "\n"
     ]
    }
   ],
   "source": [
    "raw_data_ = raw_data.withColumn('Target',when(col(\"Position_Group\") == \"DEF\", 1)\n",
    "      .when(col(\"Position_Group\")== \"FWD\", 0)\n",
    "      .otherwise(2))\n",
    "raw_data_.show()"
   ]
  },
  {
   "cell_type": "code",
   "execution_count": null,
   "metadata": {
    "colab": {
     "base_uri": "https://localhost:8080/",
     "height": 286
    },
    "colab_type": "code",
    "id": "kw3WwdineslP",
    "outputId": "e34e025b-99fd-4669-c22e-db42d74bc2b2"
   },
   "outputs": [
    {
     "name": "stdout",
     "output_type": "stream",
     "text": [
      "+------+----------+\n",
      "|Target|prediction|\n",
      "+------+----------+\n",
      "|     2|       2.0|\n",
      "|     2|       2.0|\n",
      "|     0|       2.0|\n",
      "|     2|       2.0|\n",
      "|     2|       2.0|\n",
      "|     2|       2.0|\n",
      "|     2|       2.0|\n",
      "|     1|       2.0|\n",
      "|     0|       0.0|\n",
      "|     2|       2.0|\n",
      "+------+----------+\n",
      "only showing top 10 rows\n",
      "\n"
     ]
    }
   ],
   "source": [
    "train, test = raw_data_.randomSplit([0.7, 0.3], seed=12)\n",
    "from pyspark.ml.classification import LogisticRegression\n",
    "lr = LogisticRegression(labelCol=\"Target\", featuresCol=\"Scaled_features\",maxIter=10)\n",
    "model=lr.fit(train)\n",
    "\n",
    "predict_train=model.transform(train)\n",
    "predict_test=model.transform(test)\n",
    "predict_test.select(\"Target\",\"prediction\").show(10)"
   ]
  },
  {
   "cell_type": "code",
   "execution_count": null,
   "metadata": {
    "colab": {},
    "colab_type": "code",
    "id": "BXbOYX3ufm5y"
   },
   "outputs": [],
   "source": [
    "targets = predict_test.select('Target').collect()\n",
    "predicts = predict_test.select('prediction').collect()"
   ]
  },
  {
   "cell_type": "markdown",
   "metadata": {
    "colab_type": "text",
    "id": "znn57T3IfAqh"
   },
   "source": [
    "## **3.2**"
   ]
  },
  {
   "cell_type": "code",
   "execution_count": null,
   "metadata": {
    "colab": {
     "base_uri": "https://localhost:8080/",
     "height": 84
    },
    "colab_type": "code",
    "id": "FS6NG_pre5vB",
    "outputId": "3d4aa976-cb00-4429-954e-afabe0b8e22d"
   },
   "outputs": [
    {
     "name": "stdout",
     "output_type": "stream",
     "text": [
      "Confusion Matrix: \n",
      "[[ 834    5  178]\n",
      " [   2 1422  293]\n",
      " [ 225  238 1619]]\n"
     ]
    }
   ],
   "source": [
    "from sklearn.metrics import confusion_matrix\n",
    "results = confusion_matrix(targets, predicts)\n",
    "print('Confusion Matrix: ')\n",
    "print(results)"
   ]
  },
  {
   "cell_type": "code",
   "execution_count": null,
   "metadata": {
    "colab": {
     "base_uri": "https://localhost:8080/",
     "height": 202
    },
    "colab_type": "code",
    "id": "9z8cYXrZf8-b",
    "outputId": "f2091553-45aa-47e7-bd19-eb49706672de"
   },
   "outputs": [
    {
     "name": "stdout",
     "output_type": "stream",
     "text": [
      "The Precision, Recall and F1 score:\n",
      "              precision    recall  f1-score   support\n",
      "\n",
      "           0       0.79      0.82      0.80      1017\n",
      "           1       0.85      0.83      0.84      1717\n",
      "           2       0.77      0.78      0.78      2082\n",
      "\n",
      "    accuracy                           0.80      4816\n",
      "   macro avg       0.80      0.81      0.81      4816\n",
      "weighted avg       0.81      0.80      0.80      4816\n",
      "\n"
     ]
    }
   ],
   "source": [
    "from sklearn.metrics import classification_report\n",
    "report = classification_report(targets, predicts)\n",
    "print('The Precision, Recall and F1 score:')\n",
    "print(report)"
   ]
  },
  {
   "cell_type": "markdown",
   "metadata": {
    "colab_type": "text",
    "id": "Cd8GczNTgyI6"
   },
   "source": [
    "## **3.3**"
   ]
  },
  {
   "cell_type": "code",
   "execution_count": null,
   "metadata": {
    "colab": {},
    "colab_type": "code",
    "id": "A0KUV9rBgdi2"
   },
   "outputs": [],
   "source": [
    "from pyspark.ml import Pipeline\n",
    "from pyspark.ml.classification import RandomForestClassifier\n",
    "from pyspark.ml.evaluation import MulticlassClassificationEvaluator\n",
    "from pyspark.ml.tuning import ParamGridBuilder, CrossValidator"
   ]
  },
  {
   "cell_type": "code",
   "execution_count": null,
   "metadata": {
    "colab": {
     "base_uri": "https://localhost:8080/",
     "height": 454
    },
    "colab_type": "code",
    "id": "-xY4gFQkg4bL",
    "outputId": "e2bc77f5-8db8-4d9c-fbc0-ceb63cfc9630"
   },
   "outputs": [
    {
     "name": "stdout",
     "output_type": "stream",
     "text": [
      "+--------------------+--------------+--------------------+------+\n",
      "|            features|Position_Group|     Scaled_features|Target|\n",
      "+--------------------+--------------+--------------------+------+\n",
      "|[173.736,72.12112...|           FWD|[12.9261363965246...|     0|\n",
      "|[188.976,83.00733...|           FWD|[14.0600080102548...|     0|\n",
      "|[179.832,68.0388,...|           FWD|[13.3796850420167...|     0|\n",
      "|[155.7528,69.8531...|           MID|[11.5881678923229...|     2|\n",
      "|[176.784,73.93549...|           FWD|[13.1529107192706...|     0|\n",
      "|[176.784,66.22443...|           MID|[13.1529107192706...|     2|\n",
      "|[182.88,86.18248,...|           FWD|[13.6064593647627...|     0|\n",
      "|[182.88,82.100152...|           DEF|[13.6064593647627...|     1|\n",
      "|[182.88,79.832192...|           FWD|[13.6064593647627...|     0|\n",
      "|[182.88,76.203456...|           MID|[13.6064593647627...|     2|\n",
      "|[188.976,78.01782...|           DEF|[14.0600080102548...|     1|\n",
      "|[176.784,67.13161...|           MID|[13.1529107192706...|     2|\n",
      "|[170.688,72.12112...|           MID|[12.6993620737785...|     2|\n",
      "|[155.448,74.84268...|           FWD|[11.5654904600483...|     0|\n",
      "|[188.976,88.90403...|           FWD|[14.0600080102548...|     0|\n",
      "|[179.832,73.02831...|           MID|[13.3796850420167...|     2|\n",
      "|[188.976,76.20345...|           MID|[14.0600080102548...|     2|\n",
      "|[185.928,77.11064...|           FWD|[13.8332336875088...|     0|\n",
      "|[176.784,69.85316...|           FWD|[13.1529107192706...|     0|\n",
      "|[188.976,84.82170...|           DEF|[14.0600080102548...|     1|\n",
      "+--------------------+--------------+--------------------+------+\n",
      "only showing top 20 rows\n",
      "\n"
     ]
    }
   ],
   "source": [
    "raw_data_.show()"
   ]
  },
  {
   "cell_type": "markdown",
   "metadata": {
    "colab_type": "text",
    "id": "bkbwtO728WeO"
   },
   "source": [
    "**Random Forrest Classifier**"
   ]
  },
  {
   "cell_type": "code",
   "execution_count": null,
   "metadata": {
    "colab": {
     "base_uri": "https://localhost:8080/",
     "height": 235
    },
    "colab_type": "code",
    "id": "ec3d6KIGpthJ",
    "outputId": "4e0dd170-9f28-437f-98f4-5b0cda5b380a"
   },
   "outputs": [
    {
     "name": "stdout",
     "output_type": "stream",
     "text": [
      "+--------------+------+--------------------+\n",
      "|predictedLabel|Target|            features|\n",
      "+--------------+------+--------------------+\n",
      "|             0|     2|[155.448,57.15259...|\n",
      "|             1|     1|[155.448,59.87414...|\n",
      "|             1|     1|[155.448,60.78132...|\n",
      "|             1|     1|[155.448,62.14210...|\n",
      "|             1|     1|[155.448,62.14210...|\n",
      "+--------------+------+--------------------+\n",
      "only showing top 5 rows\n",
      "\n",
      "Test Error = 0.18105564648117844\n",
      "Model Summary : RandomForestClassificationModel (uid=RandomForestClassifier_e99860b5430d) with 10 trees\n"
     ]
    }
   ],
   "source": [
    "from pyspark.ml import Pipeline\n",
    "from pyspark.ml.classification import RandomForestClassifier\n",
    "from pyspark.ml.feature import IndexToString, StringIndexer, VectorIndexer\n",
    "from pyspark.ml.evaluation import MulticlassClassificationEvaluator\n",
    "\n",
    "# Fit on whole dataset to include all labels in index.\n",
    "labelIndexer = StringIndexer(inputCol=\"Target\", outputCol=\"indexedLabel\").fit(raw_data_)\n",
    "\n",
    "# Set maxCategories so features with > 4 distinct values are treated as continuous.\n",
    "featureIndexer =\\\n",
    "    VectorIndexer(inputCol=\"features\", outputCol=\"indexedLabel\", maxCategories=4).fit(raw_data_)\n",
    "\n",
    "# Split the data into training and test sets (30% held out for testing)\n",
    "(trainingData, testData) = raw_data_.randomSplit([0.7, 0.3])\n",
    "\n",
    "# Train a RandomForest model.\n",
    "rf = RandomForestClassifier(labelCol=\"Target\", featuresCol=\"indexedLabel\", numTrees=10)\n",
    "\n",
    "# Convert indexed labels back to original labels.\n",
    "labelConverter = IndexToString(inputCol=\"prediction\", outputCol=\"predictedLabel\",\n",
    "                               labels=labelIndexer.labels)\n",
    "\n",
    "# Chain indexers and forest in a Pipeline\n",
    "pipeline = Pipeline(stages=[labelIndexer, featureIndexer, rf, labelConverter])\n",
    "\n",
    "# Train model.  This also runs the indexers.\n",
    "model = pipeline.fit(trainingData)\n",
    "\n",
    "# Make predictions.\n",
    "predictions = model.transform(testData)\n",
    "\n",
    "# Select example rows to display.\n",
    "predictions.select(\"predictedLabel\", \"Target\", \"features\").show(5)\n",
    "\n",
    "# Select (prediction, true label) and compute test error\n",
    "evaluator = MulticlassClassificationEvaluator(\n",
    "    labelCol=\"Target\", predictionCol=\"prediction\", metricName=\"accuracy\")\n",
    "accuracy = evaluator.evaluate(predictions)\n",
    "print(\"Test Error = {}\".format(1.0 - accuracy))\n",
    "\n",
    "rfModel = model.stages[2]\n",
    "print('Model Summary : {}'.format(rfModel))"
   ]
  },
  {
   "cell_type": "markdown",
   "metadata": {
    "colab_type": "text",
    "id": "TwypcWjB8cfP"
   },
   "source": [
    "**Logistic Regression Classifier**"
   ]
  },
  {
   "cell_type": "code",
   "execution_count": null,
   "metadata": {
    "colab": {
     "base_uri": "https://localhost:8080/",
     "height": 235
    },
    "colab_type": "code",
    "id": "iJz8kQUl60MQ",
    "outputId": "8cc3d886-564d-4e6b-c9bc-15f81263414c"
   },
   "outputs": [
    {
     "name": "stdout",
     "output_type": "stream",
     "text": [
      "+--------------+------+--------------------+\n",
      "|predictedLabel|Target|            features|\n",
      "+--------------+------+--------------------+\n",
      "|             0|     2|[155.448,57.15259...|\n",
      "|             0|     2|[155.448,59.87414...|\n",
      "|             1|     1|[155.448,60.78132...|\n",
      "|             0|     2|[155.448,62.14210...|\n",
      "|             0|     2|[155.448,62.14210...|\n",
      "+--------------+------+--------------------+\n",
      "only showing top 5 rows\n",
      "\n",
      "Test Error = 0.3446791060077917\n",
      "Model Summary : LogisticRegressionModel: uid = LogisticRegression_00ba33c72c21, numClasses = 3, numFeatures = 32\n"
     ]
    }
   ],
   "source": [
    "from pyspark.ml.classification import LogisticRegression\n",
    "\n",
    "# Fit on whole dataset to include all labels in index.\n",
    "labelIndexer = StringIndexer(inputCol=\"Target\", outputCol=\"indexedLabel\").fit(raw_data_)\n",
    "\n",
    "# Set maxCategories so features with > 4 distinct values are treated as continuous.\n",
    "featureIndexer =\\\n",
    "    VectorIndexer(inputCol=\"features\", outputCol=\"indexedLabel\", maxCategories=4).fit(raw_data_)\n",
    "\n",
    "# Split the data into training and test sets (30% held out for testing)\n",
    "(trainingData, testData) = raw_data_.randomSplit([0.7, 0.3])\n",
    "\n",
    "# Train a Logistic Regression model.\n",
    "lr = LogisticRegression(labelCol=\"Target\", featuresCol=\"indexedLabel\", maxIter=10, regParam=0.3, elasticNetParam=0.8)\n",
    "\n",
    "# Convert indexed labels back to original labels.\n",
    "labelConverter = IndexToString(inputCol=\"prediction\", outputCol=\"predictedLabel\",\n",
    "                               labels=labelIndexer.labels)\n",
    "\n",
    "# Chain indexers and forest in a Pipeline\n",
    "pipeline = Pipeline(stages=[labelIndexer, featureIndexer, lr, labelConverter])\n",
    "\n",
    "# Train model.  This also runs the indexers.\n",
    "model = pipeline.fit(trainingData)\n",
    "\n",
    "# Make predictions.\n",
    "predictions = model.transform(testData)\n",
    "\n",
    "# Select example rows to display.\n",
    "predictions.select(\"predictedLabel\", \"Target\", \"features\").show(5)\n",
    "\n",
    "# Select (prediction, true label) and compute test error\n",
    "evaluator = MulticlassClassificationEvaluator(\n",
    "    labelCol=\"Target\", predictionCol=\"prediction\", metricName=\"accuracy\")\n",
    "accuracy = evaluator.evaluate(predictions)\n",
    "print(\"Test Error = {}\".format(1.0 - accuracy))\n",
    "\n",
    "rfModel = model.stages[2]\n",
    "print('Model Summary : {}'.format(rfModel))"
   ]
  },
  {
   "cell_type": "markdown",
   "metadata": {
    "colab_type": "text",
    "id": "tzOC8kGz8kkR"
   },
   "source": [
    "**Decision Tree Classifier**"
   ]
  },
  {
   "cell_type": "code",
   "execution_count": null,
   "metadata": {
    "colab": {
     "base_uri": "https://localhost:8080/",
     "height": 235
    },
    "colab_type": "code",
    "id": "zAXlQG2r8pL8",
    "outputId": "ee631280-8788-4015-803e-6260cc814ca1"
   },
   "outputs": [
    {
     "name": "stdout",
     "output_type": "stream",
     "text": [
      "+--------------+------+--------------------+\n",
      "|predictedLabel|Target|            features|\n",
      "+--------------+------+--------------------+\n",
      "|             1|     1|[155.448,59.87414...|\n",
      "|             0|     2|[155.448,59.87414...|\n",
      "|             1|     2|[155.448,62.14210...|\n",
      "|             0|     2|[155.448,62.14210...|\n",
      "|             1|     1|[155.448,62.14210...|\n",
      "+--------------+------+--------------------+\n",
      "only showing top 5 rows\n",
      "\n",
      "Test Error = 0.248181083265966\n",
      "Model Summary : DecisionTreeClassificationModel (uid=DecisionTreeClassifier_53a8c339e3af) of depth 3 with 11 nodes\n"
     ]
    }
   ],
   "source": [
    "from pyspark.ml.classification import DecisionTreeClassifier\n",
    "\n",
    "# Fit on whole dataset to include all labels in index.\n",
    "labelIndexer = StringIndexer(inputCol=\"Target\", outputCol=\"indexedLabel\").fit(raw_data_)\n",
    "\n",
    "# Set maxCategories so features with > 4 distinct values are treated as continuous.\n",
    "featureIndexer =\\\n",
    "    VectorIndexer(inputCol=\"features\", outputCol=\"indexedLabel\", maxCategories=4).fit(raw_data_)\n",
    "\n",
    "# Split the data into training and test sets (30% held out for testing)\n",
    "(trainingData, testData) = raw_data_.randomSplit([0.7, 0.3])\n",
    "\n",
    "# Train a Decision Tree model.\n",
    "dt = DecisionTreeClassifier(labelCol=\"Target\", featuresCol=\"indexedLabel\", maxDepth = 3)\n",
    "# Convert indexed labels back to original labels.\n",
    "labelConverter = IndexToString(inputCol=\"prediction\", outputCol=\"predictedLabel\",\n",
    "                               labels=labelIndexer.labels)\n",
    "\n",
    "# Chain indexers and forest in a Pipeline\n",
    "pipeline = Pipeline(stages=[labelIndexer, featureIndexer, dt, labelConverter])\n",
    "\n",
    "# Train model.  This also runs the indexers.\n",
    "model = pipeline.fit(trainingData)\n",
    "\n",
    "# Make predictions.\n",
    "predictions = model.transform(testData)\n",
    "\n",
    "# Select example rows to display.\n",
    "predictions.select(\"predictedLabel\", \"Target\", \"features\").show(5)\n",
    "\n",
    "# Select (prediction, true label) and compute test error\n",
    "evaluator = MulticlassClassificationEvaluator(\n",
    "    labelCol=\"Target\", predictionCol=\"prediction\", metricName=\"accuracy\")\n",
    "accuracy = evaluator.evaluate(predictions)\n",
    "print(\"Test Error = {}\".format(1.0 - accuracy))\n",
    "\n",
    "rfModel = model.stages[2]\n",
    "print('Model Summary : {}'.format(rfModel))"
   ]
  },
  {
   "cell_type": "markdown",
   "metadata": {
    "colab": {},
    "colab_type": "code",
    "id": "iJeQNyP9vTzb"
   },
   "source": [
    "# THE END"
   ]
  }
 ],
 "metadata": {
  "colab": {
   "collapsed_sections": [],
   "name": "20200526.ipynb",
   "provenance": []
  },
  "kernelspec": {
   "display_name": "Python 3",
   "language": "python",
   "name": "python3"
  },
  "language_info": {
   "codemirror_mode": {
    "name": "ipython",
    "version": 3
   },
   "file_extension": ".py",
   "mimetype": "text/x-python",
   "name": "python",
   "nbconvert_exporter": "python",
   "pygments_lexer": "ipython3",
   "version": "3.7.6"
  }
 },
 "nbformat": 4,
 "nbformat_minor": 1
}
